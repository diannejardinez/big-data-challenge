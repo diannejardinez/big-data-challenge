{
 "cells": [
  {
   "cell_type": "code",
   "execution_count": null,
   "metadata": {
    "colab": {
     "base_uri": "https://localhost:8080/",
     "height": 102
    },
    "colab_type": "code",
    "executionInfo": {
     "elapsed": 32388,
     "status": "ok",
     "timestamp": 1595764560823,
     "user": {
      "displayName": "Dianne",
      "photoUrl": "https://lh3.googleusercontent.com/a-/AOh14GicOgHep7-38GkAaMwE3eOyHv_m_IlnuAdrknRIsQ=s64",
      "userId": "07171540442238834745"
     },
     "user_tz": 420
    },
    "id": "Y6pz7LGh_L1p",
    "outputId": "5cde6631-cf98-4213-ef2a-f5ce38fc30a8"
   },
   "outputs": [
    {
     "name": "stdout",
     "output_type": "stream",
     "text": [
      "Collecting findspark\n",
      "  Downloading https://files.pythonhosted.org/packages/fc/2d/2e39f9a023479ea798eed4351cd66f163ce61e00c717e03c37109f00c0f2/findspark-1.4.2-py2.py3-none-any.whl\n",
      "Installing collected packages: findspark\n",
      "Successfully installed findspark-1.4.2\n"
     ]
    }
   ],
   "source": [
    "# Install Java, Spark, and Findspark\n",
    "!apt-get install openjdk-8-jdk-headless -qq > /dev/null\n",
    "!wget -q http://www-us.apache.org/dist/spark/spark-2.4.6/spark-2.4.6-bin-hadoop2.7.tgz\n",
    "!tar xf spark-2.4.6-bin-hadoop2.7.tgz\n",
    "!pip install findspark\n",
    "\n",
    "# Set Environment Variables\n",
    "import os\n",
    "os.environ[\"JAVA_HOME\"] = \"/usr/lib/jvm/java-8-openjdk-amd64\"\n",
    "os.environ[\"SPARK_HOME\"] = \"/content/spark-2.4.6-bin-hadoop2.7\"\n",
    "\n",
    "# Start a SparkSession\n",
    "import findspark\n",
    "findspark.init()"
   ]
  },
  {
   "cell_type": "code",
   "execution_count": null,
   "metadata": {
    "colab": {
     "base_uri": "https://localhost:8080/",
     "height": 196
    },
    "colab_type": "code",
    "executionInfo": {
     "elapsed": 33533,
     "status": "ok",
     "timestamp": 1595764562017,
     "user": {
      "displayName": "Dianne",
      "photoUrl": "https://lh3.googleusercontent.com/a-/AOh14GicOgHep7-38GkAaMwE3eOyHv_m_IlnuAdrknRIsQ=s64",
      "userId": "07171540442238834745"
     },
     "user_tz": 420
    },
    "id": "ao8hUrAIf_sD",
    "outputId": "c6817b75-cdca-42bc-ff87-5f97e8c19946"
   },
   "outputs": [
    {
     "name": "stdout",
     "output_type": "stream",
     "text": [
      "--2020-07-26 11:56:00--  https://jdbc.postgresql.org/download/postgresql-42.2.9.jar\n",
      "Resolving jdbc.postgresql.org (jdbc.postgresql.org)... 72.32.157.228, 2001:4800:3e1:1::228\n",
      "Connecting to jdbc.postgresql.org (jdbc.postgresql.org)|72.32.157.228|:443... connected.\n",
      "HTTP request sent, awaiting response... 200 OK\n",
      "Length: 914037 (893K) [application/java-archive]\n",
      "Saving to: ‘postgresql-42.2.9.jar’\n",
      "\n",
      "postgresql-42.2.9.j 100%[===================>] 892.61K  4.84MB/s    in 0.2s    \n",
      "\n",
      "2020-07-26 11:56:01 (4.84 MB/s) - ‘postgresql-42.2.9.jar’ saved [914037/914037]\n",
      "\n"
     ]
    }
   ],
   "source": [
    "!wget https://jdbc.postgresql.org/download/postgresql-42.2.9.jar\n"
   ]
  },
  {
   "cell_type": "code",
   "execution_count": null,
   "metadata": {
    "colab": {},
    "colab_type": "code",
    "id": "Zm8k3h5ATy32"
   },
   "outputs": [],
   "source": [
    "from pyspark.sql import SparkSession\n",
    "spark = SparkSession.builder.appName(\"CloudETL\").config(\"spark.driver.extraClassPath\",\"/content/postgresql-42.2.9.jar\").getOrCreate()"
   ]
  },
  {
   "cell_type": "code",
   "execution_count": null,
   "metadata": {
    "colab": {
     "base_uri": "https://localhost:8080/",
     "height": 460
    },
    "colab_type": "code",
    "executionInfo": {
     "elapsed": 49931,
     "status": "ok",
     "timestamp": 1595764578435,
     "user": {
      "displayName": "Dianne",
      "photoUrl": "https://lh3.googleusercontent.com/a-/AOh14GicOgHep7-38GkAaMwE3eOyHv_m_IlnuAdrknRIsQ=s64",
      "userId": "07171540442238834745"
     },
     "user_tz": 420
    },
    "id": "owirHqdaTy37",
    "outputId": "c3381cf5-6df4-4762-9ece-195190c07efe"
   },
   "outputs": [
    {
     "name": "stdout",
     "output_type": "stream",
     "text": [
      "+-----------+-----------+--------------+----------+--------------+--------------------+-------------------+-----------+-------------+-----------+----+-----------------+--------------------+--------------------+-------------------+\n",
      "|marketplace|customer_id|     review_id|product_id|product_parent|       product_title|   product_category|star_rating|helpful_votes|total_votes|vine|verified_purchase|     review_headline|         review_body|        review_date|\n",
      "+-----------+-----------+--------------+----------+--------------+--------------------+-------------------+-----------+-------------+-----------+----+-----------------+--------------------+--------------------+-------------------+\n",
      "|         US|   21269168| RSH1OZ87OYK92|B013PURRZW|     603406193|Madden NFL 16 - X...|Digital_Video_Games|          2|            2|          3|   N|                N|A slight improvem...|I keep buying mad...|2015-01-31 00:08:00|\n",
      "|         US|     133437|R1WFOQ3N9BO65I|B00F4CEHNK|     341969535| Xbox Live Gift Card|Digital_Video_Games|          5|            0|          0|   N|                Y|          Five Stars|             Awesome|2015-01-31 00:08:00|\n",
      "|         US|   45765011| R3YOOS71KM5M9|B00DNHLFQA|     951665344|Command & Conquer...|Digital_Video_Games|          5|            0|          0|   N|                Y|Hail to the great...|If you are preppi...|2015-01-31 00:08:00|\n",
      "|         US|     113118|R3R14UATT3OUFU|B004RMK5QG|     395682204|Playstation Plus ...|Digital_Video_Games|          5|            0|          0|   N|                Y|          Five Stars|             Perfect|2015-01-31 00:08:00|\n",
      "|         US|   22151364| RV2W9SGDNQA2C|B00G9BNLQE|     640460561|Saints Row IV - E...|Digital_Video_Games|          5|            0|          0|   N|                Y|          Five Stars|            Awesome!|2015-01-31 00:08:00|\n",
      "|         US|   22151364|R3CFKLIZ0I2KOB|B00IMIL498|     621922192|Double Dragon: Ne...|Digital_Video_Games|          5|            0|          0|   N|                Y|          Five Stars|            Awesome!|2015-01-31 00:08:00|\n",
      "|         US|   38426028|R1LRYU1V0T3O38|B00S00IJH8|     215163395|              Sims 4|Digital_Video_Games|          4|            0|          0|   N|                Y|i like the new sk...|i like the new sk...|2015-01-31 00:08:00|\n",
      "|         US|    6057518| R44QKV6FE5CJ2|B004RMK4BC|     384246568|Playstation Netwo...|Digital_Video_Games|          5|            0|          0|   N|                Y|          Five Stars|               Super|2015-01-31 00:08:00|\n",
      "|         US|   20715661|R2TX1KLPXXXNYS|B00K59HKIQ|     384246568|Playstation Netwo...|Digital_Video_Games|          5|            0|          0|   N|                Y|         Easy & Fast|Excellent, fast a...|2015-01-31 00:08:00|\n",
      "|         US|   26540306|R1JEEW4C6R89BA|B00K59HKIQ|     384246568|Playstation Netwo...|Digital_Video_Games|          5|            0|          0|   N|                Y|          Five Stars|                  Ok|2015-01-31 00:08:00|\n",
      "|         US|    8926809|R3B3UHK1FO0ERS|B004774IPU|     151985175|Sid Meier's Civil...|Digital_Video_Games|          1|            0|          0|   N|                N|I am still playin...|As has been writt...|2015-01-31 00:08:00|\n",
      "|         US|   31525534|R2GVSDHW513SS1|B002LIT9EC|     695277014|Build-a-lot 4: Po...|Digital_Video_Games|          5|            0|          0|   N|                Y|Probably the best...|Probably the best...|2015-01-31 00:08:00|\n",
      "|         US|   22151364|R1R1NT516PYT73|B008ALUBYQ|     112160022|       Borderlands 2|Digital_Video_Games|          5|            0|          0|   N|                Y|          Five Stars|            Awesome!|2015-01-31 00:08:00|\n",
      "|         US|   22977584|R3K624QDQKENN9|B010KYDNDG|     835376637|Minecraft for PC/...|Digital_Video_Games|          4|            0|          0|   N|                Y|                 FUN|COOL BUT IT LAGES...|2015-01-31 00:08:00|\n",
      "|         US|   45765011| R1FOXH7PCJX3V|B008ALUBYQ|     112160022|       Borderlands 2|Digital_Video_Games|          1|            0|          2|   N|                Y|            One Star|Lames purchase I ...|2015-01-31 00:08:00|\n",
      "|         US|    2239522| RA1246M1OMDWC|B004RMK4P8|     384246568|Playstation Netwo...|Digital_Video_Games|          5|            0|          0|   N|                Y|          Five Stars|               Great|2015-01-31 00:08:00|\n",
      "|         US|   48805811|R2I9SXWB0PAEKQ|B004RMK5QG|     395682204|Playstation Plus ...|Digital_Video_Games|          5|            0|          0|   N|                Y|          Five Stars|          Awesome!!!|2015-01-31 00:08:00|\n",
      "|         US|   18646481|R3UGL544NA0G9C|B00BI16Z22|     552981447|Brink of Consciou...|Digital_Video_Games|          4|            0|          0|   N|                Y|       worth playing|pretty good but n...|2015-01-31 00:08:00|\n",
      "|         US|   10310935|R1CBA4Y92GVAVM|B004VSTQ2A|     232803743|Xbox Live Subscri...|Digital_Video_Games|          5|            0|          0|   N|                Y|          Five Stars|What can I say......|2015-01-31 00:08:00|\n",
      "|         US|    5587610|R24NEKNR01VEHU|B00GAC1D2G|     384246568|Playstation Netwo...|Digital_Video_Games|          5|            0|          0|   N|                Y|        Just amazing|Very fast to rece...|2015-01-31 00:08:00|\n",
      "+-----------+-----------+--------------+----------+--------------+--------------------+-------------------+-----------+-------------+-----------+----+-----------------+--------------------+--------------------+-------------------+\n",
      "only showing top 20 rows\n",
      "\n"
     ]
    }
   ],
   "source": [
    "# Read in data from S3 Buckets\n",
    "from pyspark import SparkFiles\n",
    "url = \"https://s3.amazonaws.com/amazon-reviews-pds/tsv/amazon_reviews_us_Digital_Video_Games_v1_00.tsv.gz\"\n",
    "spark.sparkContext.addFile(url)\n",
    "\n",
    "df = spark.read.option('header', 'true').csv(SparkFiles.get(\"amazon_reviews_us_Digital_Video_Games_v1_00.tsv.gz\"), inferSchema=True, sep='\\t', timestampFormat=\"yyyy-mm-dd\")\n",
    "df.show()\n"
   ]
  },
  {
   "cell_type": "markdown",
   "metadata": {
    "colab_type": "text",
    "id": "Q6W6YJ4XWoan"
   },
   "source": [
    "# Count the number of records (rows) in the dataset."
   ]
  },
  {
   "cell_type": "code",
   "execution_count": null,
   "metadata": {
    "colab": {
     "base_uri": "https://localhost:8080/",
     "height": 33
    },
    "colab_type": "code",
    "executionInfo": {
     "elapsed": 51307,
     "status": "ok",
     "timestamp": 1595764579822,
     "user": {
      "displayName": "Dianne",
      "photoUrl": "https://lh3.googleusercontent.com/a-/AOh14GicOgHep7-38GkAaMwE3eOyHv_m_IlnuAdrknRIsQ=s64",
      "userId": "07171540442238834745"
     },
     "user_tz": 420
    },
    "id": "_knkc8yVRXnj",
    "outputId": "e4894f30-ba51-4093-c13b-9622a3d738a1"
   },
   "outputs": [
    {
     "data": {
      "text/plain": [
       "145431"
      ]
     },
     "execution_count": 5,
     "metadata": {
      "tags": []
     },
     "output_type": "execute_result"
    }
   ],
   "source": [
    "df.count()"
   ]
  },
  {
   "cell_type": "code",
   "execution_count": null,
   "metadata": {
    "colab": {
     "base_uri": "https://localhost:8080/",
     "height": 33
    },
    "colab_type": "code",
    "executionInfo": {
     "elapsed": 54358,
     "status": "ok",
     "timestamp": 1595764582886,
     "user": {
      "displayName": "Dianne",
      "photoUrl": "https://lh3.googleusercontent.com/a-/AOh14GicOgHep7-38GkAaMwE3eOyHv_m_IlnuAdrknRIsQ=s64",
      "userId": "07171540442238834745"
     },
     "user_tz": 420
    },
    "id": "Om3NKifpmGbM",
    "outputId": "df6656d4-f165-4e45-cb2a-569a5634edf8"
   },
   "outputs": [
    {
     "name": "stdout",
     "output_type": "stream",
     "text": [
      "145425\n"
     ]
    }
   ],
   "source": [
    "# Drop null values\n",
    "df = df.dropna()\n",
    "\n",
    "print(df.count())"
   ]
  },
  {
   "cell_type": "markdown",
   "metadata": {
    "colab_type": "text",
    "id": "V1iKb6b-XnuH"
   },
   "source": [
    "# Transform the dataset to fit the tables in the schema file"
   ]
  },
  {
   "cell_type": "code",
   "execution_count": null,
   "metadata": {
    "colab": {
     "base_uri": "https://localhost:8080/",
     "height": 293
    },
    "colab_type": "code",
    "executionInfo": {
     "elapsed": 54347,
     "status": "ok",
     "timestamp": 1595764582889,
     "user": {
      "displayName": "Dianne",
      "photoUrl": "https://lh3.googleusercontent.com/a-/AOh14GicOgHep7-38GkAaMwE3eOyHv_m_IlnuAdrknRIsQ=s64",
      "userId": "07171540442238834745"
     },
     "user_tz": 420
    },
    "id": "1TLBH5IMRXr5",
    "outputId": "8cf43c7b-79a4-4976-b02a-c8c14c0409d0"
   },
   "outputs": [
    {
     "name": "stdout",
     "output_type": "stream",
     "text": [
      "root\n",
      " |-- marketplace: string (nullable = true)\n",
      " |-- customer_id: integer (nullable = true)\n",
      " |-- review_id: string (nullable = true)\n",
      " |-- product_id: string (nullable = true)\n",
      " |-- product_parent: integer (nullable = true)\n",
      " |-- product_title: string (nullable = true)\n",
      " |-- product_category: string (nullable = true)\n",
      " |-- star_rating: integer (nullable = true)\n",
      " |-- helpful_votes: integer (nullable = true)\n",
      " |-- total_votes: integer (nullable = true)\n",
      " |-- vine: string (nullable = true)\n",
      " |-- verified_purchase: string (nullable = true)\n",
      " |-- review_headline: string (nullable = true)\n",
      " |-- review_body: string (nullable = true)\n",
      " |-- review_date: timestamp (nullable = true)\n",
      "\n"
     ]
    }
   ],
   "source": [
    "# Print schema\n",
    "df.printSchema()"
   ]
  },
  {
   "cell_type": "code",
   "execution_count": null,
   "metadata": {
    "colab": {
     "base_uri": "https://localhost:8080/",
     "height": 293
    },
    "colab_type": "code",
    "executionInfo": {
     "elapsed": 54338,
     "status": "ok",
     "timestamp": 1595764582893,
     "user": {
      "displayName": "Dianne",
      "photoUrl": "https://lh3.googleusercontent.com/a-/AOh14GicOgHep7-38GkAaMwE3eOyHv_m_IlnuAdrknRIsQ=s64",
      "userId": "07171540442238834745"
     },
     "user_tz": 420
    },
    "id": "XZrgB9p-jB0h",
    "outputId": "ab197cd9-46a0-4f38-e868-138774f650b4"
   },
   "outputs": [
    {
     "name": "stdout",
     "output_type": "stream",
     "text": [
      "root\n",
      " |-- marketplace: string (nullable = true)\n",
      " |-- customer_id: integer (nullable = true)\n",
      " |-- review_id: string (nullable = true)\n",
      " |-- product_id: string (nullable = true)\n",
      " |-- product_parent: integer (nullable = true)\n",
      " |-- product_title: string (nullable = true)\n",
      " |-- product_category: string (nullable = true)\n",
      " |-- star_rating: integer (nullable = true)\n",
      " |-- helpful_votes: integer (nullable = true)\n",
      " |-- total_votes: integer (nullable = true)\n",
      " |-- vine: string (nullable = true)\n",
      " |-- verified_purchase: string (nullable = true)\n",
      " |-- review_headline: string (nullable = true)\n",
      " |-- review_body: string (nullable = true)\n",
      " |-- review_date: timestamp (nullable = true)\n",
      "\n"
     ]
    }
   ],
   "source": [
    "# Changing datatypes\n",
    "# Source Link: https://stackoverflow.com/questions/32284620/how-to-change-a-dataframe-column-from-string-type-to-double-type-in-pyspark\n",
    "\n",
    "from pyspark.sql.types import TimestampType, IntegerType\n",
    "\n",
    "df = df.withColumn(\"customer_id\", df[\"customer_id\"].cast(IntegerType()))\\\n",
    "       .withColumn(\"product_parent\", df[\"product_parent\"].cast(IntegerType()))\\\n",
    "       .withColumn(\"review_date\", df[\"review_date\"].cast(TimestampType()))\\\n",
    "       .withColumn(\"star_rating\", df[\"star_rating\"].cast(IntegerType()))\\\n",
    "       .withColumn(\"helpful_votes\", df[\"helpful_votes\"].cast(IntegerType()))\\\n",
    "      .withColumn(\"total_votes\", df[\"total_votes\"].cast(IntegerType()))\\\n",
    "\n",
    "# Print schema\n",
    "df.printSchema()"
   ]
  },
  {
   "cell_type": "markdown",
   "metadata": {
    "colab_type": "text",
    "id": "266FLaOIhiXc"
   },
   "source": [
    "### Review_id Table"
   ]
  },
  {
   "cell_type": "code",
   "execution_count": null,
   "metadata": {
    "colab": {
     "base_uri": "https://localhost:8080/",
     "height": 440
    },
    "colab_type": "code",
    "executionInfo": {
     "elapsed": 54818,
     "status": "ok",
     "timestamp": 1595764583385,
     "user": {
      "displayName": "Dianne",
      "photoUrl": "https://lh3.googleusercontent.com/a-/AOh14GicOgHep7-38GkAaMwE3eOyHv_m_IlnuAdrknRIsQ=s64",
      "userId": "07171540442238834745"
     },
     "user_tz": 420
    },
    "id": "GtqY9w20dNZo",
    "outputId": "e976b135-eba7-491c-9a53-26a248700560"
   },
   "outputs": [
    {
     "name": "stdout",
     "output_type": "stream",
     "text": [
      "+--------------+-----------+----------+--------------+-------------------+\n",
      "|     review_id|customer_id|product_id|product_parent|        review_date|\n",
      "+--------------+-----------+----------+--------------+-------------------+\n",
      "| RSH1OZ87OYK92|   21269168|B013PURRZW|     603406193|2015-01-31 00:08:00|\n",
      "|R1WFOQ3N9BO65I|     133437|B00F4CEHNK|     341969535|2015-01-31 00:08:00|\n",
      "| R3YOOS71KM5M9|   45765011|B00DNHLFQA|     951665344|2015-01-31 00:08:00|\n",
      "|R3R14UATT3OUFU|     113118|B004RMK5QG|     395682204|2015-01-31 00:08:00|\n",
      "| RV2W9SGDNQA2C|   22151364|B00G9BNLQE|     640460561|2015-01-31 00:08:00|\n",
      "|R3CFKLIZ0I2KOB|   22151364|B00IMIL498|     621922192|2015-01-31 00:08:00|\n",
      "|R1LRYU1V0T3O38|   38426028|B00S00IJH8|     215163395|2015-01-31 00:08:00|\n",
      "| R44QKV6FE5CJ2|    6057518|B004RMK4BC|     384246568|2015-01-31 00:08:00|\n",
      "|R2TX1KLPXXXNYS|   20715661|B00K59HKIQ|     384246568|2015-01-31 00:08:00|\n",
      "|R1JEEW4C6R89BA|   26540306|B00K59HKIQ|     384246568|2015-01-31 00:08:00|\n",
      "|R3B3UHK1FO0ERS|    8926809|B004774IPU|     151985175|2015-01-31 00:08:00|\n",
      "|R2GVSDHW513SS1|   31525534|B002LIT9EC|     695277014|2015-01-31 00:08:00|\n",
      "|R1R1NT516PYT73|   22151364|B008ALUBYQ|     112160022|2015-01-31 00:08:00|\n",
      "|R3K624QDQKENN9|   22977584|B010KYDNDG|     835376637|2015-01-31 00:08:00|\n",
      "| R1FOXH7PCJX3V|   45765011|B008ALUBYQ|     112160022|2015-01-31 00:08:00|\n",
      "| RA1246M1OMDWC|    2239522|B004RMK4P8|     384246568|2015-01-31 00:08:00|\n",
      "|R2I9SXWB0PAEKQ|   48805811|B004RMK5QG|     395682204|2015-01-31 00:08:00|\n",
      "|R3UGL544NA0G9C|   18646481|B00BI16Z22|     552981447|2015-01-31 00:08:00|\n",
      "|R1CBA4Y92GVAVM|   10310935|B004VSTQ2A|     232803743|2015-01-31 00:08:00|\n",
      "|R24NEKNR01VEHU|    5587610|B00GAC1D2G|     384246568|2015-01-31 00:08:00|\n",
      "+--------------+-----------+----------+--------------+-------------------+\n",
      "only showing top 20 rows\n",
      "\n"
     ]
    }
   ],
   "source": [
    "# Create review dataframe to match review_id_table table\n",
    "review_id_df = df.select([\"review_id\",\"customer_id\",\"product_id\", \"product_parent\",\"review_date\"])\n",
    "review_id_df.show()\n"
   ]
  },
  {
   "cell_type": "code",
   "execution_count": null,
   "metadata": {
    "colab": {
     "base_uri": "https://localhost:8080/",
     "height": 131
    },
    "colab_type": "code",
    "executionInfo": {
     "elapsed": 54805,
     "status": "ok",
     "timestamp": 1595764583387,
     "user": {
      "displayName": "Dianne",
      "photoUrl": "https://lh3.googleusercontent.com/a-/AOh14GicOgHep7-38GkAaMwE3eOyHv_m_IlnuAdrknRIsQ=s64",
      "userId": "07171540442238834745"
     },
     "user_tz": 420
    },
    "id": "Xn0ung_IhrP2",
    "outputId": "1db2dc63-43a9-4f16-c10e-b0ee0894acf1"
   },
   "outputs": [
    {
     "name": "stdout",
     "output_type": "stream",
     "text": [
      "root\n",
      " |-- review_id: string (nullable = true)\n",
      " |-- customer_id: integer (nullable = true)\n",
      " |-- product_id: string (nullable = true)\n",
      " |-- product_parent: integer (nullable = true)\n",
      " |-- review_date: timestamp (nullable = true)\n",
      "\n"
     ]
    }
   ],
   "source": [
    "# Print schema\n",
    "review_id_df.printSchema()\n"
   ]
  },
  {
   "cell_type": "markdown",
   "metadata": {
    "colab_type": "text",
    "id": "-PxqlbB1LwXf"
   },
   "source": [
    "### Products table\n"
   ]
  },
  {
   "cell_type": "code",
   "execution_count": null,
   "metadata": {
    "colab": {
     "base_uri": "https://localhost:8080/",
     "height": 440
    },
    "colab_type": "code",
    "executionInfo": {
     "elapsed": 57721,
     "status": "ok",
     "timestamp": 1595764586318,
     "user": {
      "displayName": "Dianne",
      "photoUrl": "https://lh3.googleusercontent.com/a-/AOh14GicOgHep7-38GkAaMwE3eOyHv_m_IlnuAdrknRIsQ=s64",
      "userId": "07171540442238834745"
     },
     "user_tz": 420
    },
    "id": "_hGq22V9LpnA",
    "outputId": "da2aa643-3a4a-41b7-c1c3-ab38be9ee116"
   },
   "outputs": [
    {
     "name": "stdout",
     "output_type": "stream",
     "text": [
      "+----------+--------------------+\n",
      "|product_id|       product_title|\n",
      "+----------+--------------------+\n",
      "|B001TK3VTC|Cubis Gold 2 [Dow...|\n",
      "|B002MUB0TG|Little Shop of Tr...|\n",
      "|B00DRO824C|X2 The Threat [On...|\n",
      "|B00CMDKNHI| 100% Hidden Objects|\n",
      "|B00CMSCTA2|Age of Empires II...|\n",
      "|B00GDHD3LW|1 Month Subscript...|\n",
      "|B00OM1VVJM|            NBa 2K15|\n",
      "|B005XOJ6NK|   Sonic Generations|\n",
      "|B00GGUHGGY|Call of Duty Blac...|\n",
      "|B00A9XQ890|Grand Theft Auto:...|\n",
      "|B003YMMGEE|Sniper: Ghost War...|\n",
      "|B00405RA04|Rome: Total War -...|\n",
      "|B0083KX9IO|Stronghold Kingdo...|\n",
      "|B00M0W1YZQ|Chronicles of Wit...|\n",
      "|B00895ARJC|  Syberia [Download]|\n",
      "|B0084FHQ1O|The Stronghold Co...|\n",
      "|B00KK9PR90|Freddi Fish 3: Th...|\n",
      "|B001KC01OW|Wonderlines [Down...|\n",
      "|B008TTPTOQ|Battlefield Bad C...|\n",
      "|B00DGZDGUM|Nascar The Game 2...|\n",
      "+----------+--------------------+\n",
      "only showing top 20 rows\n",
      "\n"
     ]
    }
   ],
   "source": [
    "# Create product dataframe to match products table(only unique values)\n",
    "products_df = df.select([\"product_id\",\"product_title\"])\n",
    "products_df = products_df.dropDuplicates()\n",
    "products_df.show()"
   ]
  },
  {
   "cell_type": "markdown",
   "metadata": {
    "colab_type": "text",
    "id": "hHPeKRLU1AN2"
   },
   "source": [
    "### Customers table"
   ]
  },
  {
   "cell_type": "code",
   "execution_count": null,
   "metadata": {
    "colab": {
     "base_uri": "https://localhost:8080/",
     "height": 440
    },
    "colab_type": "code",
    "executionInfo": {
     "elapsed": 63128,
     "status": "ok",
     "timestamp": 1595764591740,
     "user": {
      "displayName": "Dianne",
      "photoUrl": "https://lh3.googleusercontent.com/a-/AOh14GicOgHep7-38GkAaMwE3eOyHv_m_IlnuAdrknRIsQ=s64",
      "userId": "07171540442238834745"
     },
     "user_tz": 420
    },
    "id": "16HtUoUYhuRl",
    "outputId": "f248c87d-0842-4d4e-cad7-743d9d1c969f"
   },
   "outputs": [
    {
     "name": "stdout",
     "output_type": "stream",
     "text": [
      "+-----------+--------------+\n",
      "|customer_id|customer_count|\n",
      "+-----------+--------------+\n",
      "|   21925455|            95|\n",
      "|   40955995|            92|\n",
      "|   23564949|            83|\n",
      "|   52520442|            73|\n",
      "|   14279279|            72|\n",
      "|   51520185|            65|\n",
      "|   20751317|            54|\n",
      "|   50529050|            49|\n",
      "|   25575022|            49|\n",
      "|   11584162|            49|\n",
      "|   36527466|            48|\n",
      "|   39942708|            48|\n",
      "|   31012456|            46|\n",
      "|   52919259|            45|\n",
      "|   46544620|            43|\n",
      "|   19371429|            43|\n",
      "|   53080901|            42|\n",
      "|   26151231|            42|\n",
      "|   45688707|            40|\n",
      "|   14222166|            39|\n",
      "+-----------+--------------+\n",
      "only showing top 20 rows\n",
      "\n"
     ]
    }
   ],
   "source": [
    "# Create customer dataframe to match customers table\n",
    "from pyspark.sql.functions import desc\n",
    "\n",
    "customers_df = df.groupby(\"customer_id\").agg({\"customer_id\":\"count\"})\n",
    "customers_df = customers_df.orderBy(desc(\"count(customer_id)\"))\n",
    "customers_df = customers_df.withColumnRenamed(\"count(customer_id)\", \"customer_count\") \n",
    "customers_df.show()\n"
   ]
  },
  {
   "cell_type": "markdown",
   "metadata": {
    "colab_type": "text",
    "id": "CGYvnmDX1r6a"
   },
   "source": [
    "### Vine table"
   ]
  },
  {
   "cell_type": "code",
   "execution_count": null,
   "metadata": {
    "colab": {
     "base_uri": "https://localhost:8080/",
     "height": 440
    },
    "colab_type": "code",
    "executionInfo": {
     "elapsed": 63424,
     "status": "ok",
     "timestamp": 1595764592050,
     "user": {
      "displayName": "Dianne",
      "photoUrl": "https://lh3.googleusercontent.com/a-/AOh14GicOgHep7-38GkAaMwE3eOyHv_m_IlnuAdrknRIsQ=s64",
      "userId": "07171540442238834745"
     },
     "user_tz": 420
    },
    "id": "g5lRPLF8fXdR",
    "outputId": "7fc15a3a-6a91-4b5b-df89-aef72721ff81"
   },
   "outputs": [
    {
     "name": "stdout",
     "output_type": "stream",
     "text": [
      "+--------------+-----------+-------------+-----------+----+\n",
      "|     review_id|star_rating|helpful_votes|total_votes|vine|\n",
      "+--------------+-----------+-------------+-----------+----+\n",
      "| RSH1OZ87OYK92|          2|            2|          3|   N|\n",
      "|R1WFOQ3N9BO65I|          5|            0|          0|   N|\n",
      "| R3YOOS71KM5M9|          5|            0|          0|   N|\n",
      "|R3R14UATT3OUFU|          5|            0|          0|   N|\n",
      "| RV2W9SGDNQA2C|          5|            0|          0|   N|\n",
      "|R3CFKLIZ0I2KOB|          5|            0|          0|   N|\n",
      "|R1LRYU1V0T3O38|          4|            0|          0|   N|\n",
      "| R44QKV6FE5CJ2|          5|            0|          0|   N|\n",
      "|R2TX1KLPXXXNYS|          5|            0|          0|   N|\n",
      "|R1JEEW4C6R89BA|          5|            0|          0|   N|\n",
      "|R3B3UHK1FO0ERS|          1|            0|          0|   N|\n",
      "|R2GVSDHW513SS1|          5|            0|          0|   N|\n",
      "|R1R1NT516PYT73|          5|            0|          0|   N|\n",
      "|R3K624QDQKENN9|          4|            0|          0|   N|\n",
      "| R1FOXH7PCJX3V|          1|            0|          2|   N|\n",
      "| RA1246M1OMDWC|          5|            0|          0|   N|\n",
      "|R2I9SXWB0PAEKQ|          5|            0|          0|   N|\n",
      "|R3UGL544NA0G9C|          4|            0|          0|   N|\n",
      "|R1CBA4Y92GVAVM|          5|            0|          0|   N|\n",
      "|R24NEKNR01VEHU|          5|            0|          0|   N|\n",
      "+--------------+-----------+-------------+-----------+----+\n",
      "only showing top 20 rows\n",
      "\n"
     ]
    }
   ],
   "source": [
    "# Create vine dataframe to match vine_table table\n",
    "\n",
    "# Load in a sql function to use columns\n",
    "from pyspark.sql.functions import col\n",
    "\n",
    "vine_table_df = df.select([\"review_id\",\"star_rating\",\"helpful_votes\", \"total_votes\",\"vine\"])\n",
    "\n",
    "# # Filter for only columns from Amazon's Vine program\n",
    "# vine_table_df = vine_table_df.filter(col(\"vine\")  == \"Y\")\n",
    "vine_table_df.show() \n"
   ]
  },
  {
   "cell_type": "markdown",
   "metadata": {
    "colab_type": "text",
    "id": "h8mZinqI2qW4"
   },
   "source": [
    "# Load DataFrame to RDS"
   ]
  },
  {
   "cell_type": "code",
   "execution_count": null,
   "metadata": {
    "colab": {},
    "colab_type": "code",
    "id": "tqZWFrMM2pgz"
   },
   "outputs": [],
   "source": [
    "# Configuration for RDS instance\n",
    "mode=\"append\"\n",
    "jdbc_url = \"jdbc:postgresql://<insert endpoint>.rds.amazonaws.com:5432/video_games_db\"\n",
    "config = {\"user\":\"root\",\n",
    "          \"password\": \"<insert password>\",\n",
    "          \"driver\":\"org.postgresql.Driver\"}"
   ]
  },
  {
   "cell_type": "markdown",
   "metadata": {
    "colab_type": "text",
    "id": "0PDvBiVN_jGe"
   },
   "source": [
    "## Write DataFrame to RDS"
   ]
  },
  {
   "cell_type": "code",
   "execution_count": null,
   "metadata": {
    "colab": {},
    "colab_type": "code",
    "id": "fOIS3viE_leJ"
   },
   "outputs": [],
   "source": [
    "# Write DataFrame to review_id_df table in RDS\n",
    "\n",
    "review_id_df.write.jdbc(url=jdbc_url, table='review_id_table', mode=mode, properties=config)"
   ]
  },
  {
   "cell_type": "code",
   "execution_count": null,
   "metadata": {
    "colab": {},
    "colab_type": "code",
    "id": "6eS1Qumxqtn4"
   },
   "outputs": [],
   "source": [
    "# Write DataFrame to products table in RDS\n",
    "\n",
    "products_df.write.jdbc(url=jdbc_url, table='products', mode=mode, properties=config)"
   ]
  },
  {
   "cell_type": "code",
   "execution_count": null,
   "metadata": {
    "colab": {},
    "colab_type": "code",
    "id": "K6_O84CK_nV5"
   },
   "outputs": [],
   "source": [
    "# Write DataFrame to customers table in RDS\n",
    "\n",
    "customers_df.write.jdbc(url=jdbc_url, table='customers', mode=mode, properties=config)"
   ]
  },
  {
   "cell_type": "code",
   "execution_count": null,
   "metadata": {
    "colab": {},
    "colab_type": "code",
    "id": "CNKz5FHg_uV9"
   },
   "outputs": [],
   "source": [
    "# Write DataFrame to vine_table table in RDS\n",
    "\n",
    "vine_table_df.write.jdbc(url=jdbc_url, table='vine_table', mode=mode, properties=config)"
   ]
  },
  {
   "cell_type": "code",
   "execution_count": null,
   "metadata": {
    "colab": {},
    "colab_type": "code",
    "id": "Tvw--Ool_vju"
   },
   "outputs": [],
   "source": []
  }
 ],
 "metadata": {
  "colab": {
   "collapsed_sections": [],
   "name": "ETL-Amazon-Digital_Video_Games-Level1.ipynb",
   "provenance": []
  },
  "kernelspec": {
   "display_name": "Python 3",
   "language": "python",
   "name": "python3"
  },
  "language_info": {
   "codemirror_mode": {
    "name": "ipython",
    "version": 3
   },
   "file_extension": ".py",
   "mimetype": "text/x-python",
   "name": "python",
   "nbconvert_exporter": "python",
   "pygments_lexer": "ipython3",
   "version": "3.7.4"
  },
  "latex_envs": {
   "LaTeX_envs_menu_present": true,
   "autoclose": false,
   "autocomplete": true,
   "bibliofile": "biblio.bib",
   "cite_by": "apalike",
   "current_citInitial": 1,
   "eqLabelWithNumbers": true,
   "eqNumInitial": 1,
   "hotkeys": {
    "equation": "Ctrl-E",
    "itemize": "Ctrl-I"
   },
   "labels_anchors": false,
   "latex_user_defs": false,
   "report_style_numbering": false,
   "user_envs_cfg": false
  }
 },
 "nbformat": 4,
 "nbformat_minor": 4
}
